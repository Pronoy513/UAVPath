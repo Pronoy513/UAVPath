{
  "nbformat": 4,
  "nbformat_minor": 0,
  "metadata": {
    "colab": {
      "provenance": []
    },
    "kernelspec": {
      "name": "python3",
      "display_name": "Python 3"
    },
    "language_info": {
      "name": "python"
    }
  },
  "cells": [
    {
      "cell_type": "code",
      "execution_count": null,
      "metadata": {
        "id": "oomsQpiQ3Uq2"
      },
      "outputs": [],
      "source": [
        "#From Microsoft Building Dataset\n",
        "import json\n",
        "import csv\n",
        "import re\n",
        "\n",
        "def read_csv_file(file_path):\n",
        "    features = []\n",
        "    with open(file_path, 'r') as file:\n",
        "        csv_reader = csv.reader(file)\n",
        "        for row in csv_reader:\n",
        "            csv_string = ''.join(row)\n",
        "            line, geometry_part = csv_string.split('geometry:')\n",
        "            geometry_part, coordinates_str = geometry_part.split('coordinates')\n",
        "            line += ', \"geometry\":' + geometry_part\n",
        "            line = line.replace('\"type\": \"Feature\" ', '\"type\": \"Feature\", ')\n",
        "            line = line.replace('\"properties\": { ', '\"properties\": {')\n",
        "            line = line.replace('\"height\": ', '\"height\": ')\n",
        "            line = line.replace('\"confidence\": ', ', \"confidence\": ')\n",
        "            line = line.replace(\"'\", '\"')\n",
        "            numbers = re.findall(r\"-?\\d+\\.\\d+\", coordinates_str)\n",
        "            formatted_coordinates = [[[float(numbers[i]), float(numbers[i+1])] for i in range(0, len(numbers), 2)]]\n",
        "            line += ', \"coordinates\": ' + str(formatted_coordinates) + \"}}\"\n",
        "            features.append(json.loads(line))\n",
        "    return features\n",
        "\n",
        "def write_geojson(features, output_file):\n",
        "    geojson_data = {\n",
        "        \"type\": \"FeatureCollection\",\n",
        "        \"features\": features\n",
        "    }\n",
        "    with open(output_file, 'w') as f:\n",
        "      json.dump(geojson_data, f, indent=2)\n",
        "\n",
        "def process_geojson(x):\n",
        "  features = []\n",
        "  for feature in x:\n",
        "    if feature[\"geometry\"][\"type\"] == \"Polygon\":\n",
        "      # Extract polygon coordinates\n",
        "      polygon_coords = feature[\"geometry\"][\"coordinates\"][0]\n",
        "      # Get height property\n",
        "      height = feature[\"properties\"][\"height\"]\n",
        "      # Determine color based on height threshold (optional)\n",
        "      color = \"#ff0000\" if height > 5 else \"#00ffff\"\n",
        "      # Update feature properties with fill and stroke attributes\n",
        "      feature[\"properties\"].update({\n",
        "            \"stroke\": color,\n",
        "            \"stroke-width\": 2,\n",
        "            \"stroke-opacity\": 1,\n",
        "            \"fill\": color,\n",
        "            \"fill-opacity\": 1\n",
        "      })\n",
        "      features.append(feature)\n",
        "  return features\n",
        "\n",
        "\n",
        "# Example usage:\n",
        "csv_file_path = \"sd.csv\"\n",
        "output_file_path = \"outputx.json\"\n",
        "\n",
        "x = read_csv_file(csv_file_path)\n",
        "\n",
        "y=process_geojson(x)\n",
        "write_geojson(y, output_file_path)"
      ]
    },
    {
      "cell_type": "code",
      "source": [
        "#From OneGeo Dataset\n",
        "\n",
        "import json\n",
        "\n",
        "# Read data from JSON file\n",
        "with open('pro.json', 'r') as file:\n",
        "    data = json.load(file)\n",
        "\n",
        "# Access the 'features' list from the 'FeatureCollection'\n",
        "features = data[\"features\"]\n",
        "\n",
        "# Update features based on the height value\n",
        "for feature in features:\n",
        "    height = feature[\"properties\"][\"height\"]\n",
        "    color = \"#ff0000\" if height > 5 else \"#00ffff\"\n",
        "\n",
        "    # Update feature properties\n",
        "    feature[\"properties\"].update({\n",
        "        \"stroke\": color,\n",
        "        \"stroke-width\": 2,\n",
        "        \"stroke-opacity\": 1,\n",
        "        \"fill\": color,\n",
        "        \"fill-opacity\": 1\n",
        "    })\n",
        "\n",
        "# Write updated data to a new JSON file with the same structure\n",
        "updated_data = {\n",
        "    \"type\": \"FeatureCollection\",\n",
        "    \"features\": features\n",
        "}\n",
        "\n",
        "with open('output2.json', 'w') as file:\n",
        "    json.dump(updated_data, file, indent=4)\n",
        "\n",
        "print(\"Updated data has been written to output.json\")\n"
      ],
      "metadata": {
        "id": "dhyaFEpF-Dsg",
        "colab": {
          "base_uri": "https://localhost:8080/"
        },
        "outputId": "0dd3baff-4dd0-4a9f-b7d6-aea0937ad447"
      },
      "execution_count": null,
      "outputs": [
        {
          "output_type": "stream",
          "name": "stdout",
          "text": [
            "Updated data has been written to output.json\n"
          ]
        }
      ]
    }
  ]
}